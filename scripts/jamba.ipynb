{
 "cells": [
  {
   "cell_type": "code",
   "execution_count": null,
   "metadata": {},
   "outputs": [],
   "source": []
  },
  {
   "cell_type": "code",
   "execution_count": null,
   "metadata": {},
   "outputs": [],
   "source": [
    "import requests\n",
    "import json\n",
    "import re"
   ]
  },
  {
   "cell_type": "code",
   "execution_count": null,
   "metadata": {},
   "outputs": [
    {
     "name": "stderr",
     "output_type": "stream",
     "text": [
      "/home/chris/Documents/UT/SWTest/project/QualitySoftware/venv/lib/python3.12/site-packages/requests/models.py:754: RuntimeWarning: coroutine 'ask_sydney_async' was never awaited\n",
      "  @property\n",
      "RuntimeWarning: Enable tracemalloc to get the object allocation traceback\n"
     ]
    }
   ],
   "source": [
    "from meta_ai_api import MetaAI # no api key needed :O\n",
    "meta_ai = MetaAI()"
   ]
  },
  {
   "cell_type": "code",
   "execution_count": 23,
   "metadata": {},
   "outputs": [],
   "source": [
    "import requests\n",
    "JAMBA_API_URL = 'https://api.ai21.com/studio/v1/chat/completions'\n",
    "def send_message_to_jamba(message):\n",
    "    headers = {\n",
    "        'Authorization': f'Bearer {JAMBA_API_KEY}',\n",
    "        'Content-Type': 'application/json'\n",
    "    }\n",
    "    data = {\n",
    "        \"model\": \"jamba-1.5-large\",\n",
    "        \"messages\": [\n",
    "            {\"role\": \"user\", \"content\": message}\n",
    "        ]\n",
    "    }\n",
    "\n",
    "    response = requests.post(JAMBA_API_URL, headers=headers, json=data)\n",
    "    response.raise_for_status()  # Raises an error if the request failed\n",
    "    return response.json()['choices'][0]['message']['content']\n"
   ]
  },
  {
   "cell_type": "code",
   "execution_count": 25,
   "metadata": {},
   "outputs": [
    {
     "name": "stdout",
     "output_type": "stream",
     "text": [
      "Sure! Here's a suggested itinerary for a weeklong trip to Hawaii, focusing on the island of Oahu, which is home to Honolulu and offers a great mix of activities:\n",
      "\n",
      "### Day 1: Arrival and Relaxation\n",
      "\n",
      "* **Arrival in Honolulu**: Check into your hotel.\n",
      "* **Waikiki Beach**: Spend the afternoon relaxing on the famous Waikiki Beach.\n",
      "* **Dinner in Waikiki**: Enjoy dinner at one of the many restaurants along the beach.\n",
      "\n",
      "### Day 2: Explore Honolulu and Historical Sites\n",
      "\n",
      "* **Pearl Harbor**: Visit the Pearl Harbor National Memorial, including the USS Arizona Memorial.\n",
      "* **Iolani Palace**: Tour the only royal palace in the United States.\n",
      "* **Chinatown**: Explore the vibrant Chinatown district and have lunch at one of the local eateries.\n",
      "\n",
      "### Day 3: Nature and Adventure\n",
      "\n",
      "* **Diamond Head**: Hike up Diamond Head for stunning views of Honolulu and the Pacific Ocean.\n",
      "* **Hanauma Bay**: Snorkel in Hanauma Bay, a nature preserve with beautiful coral reefs and marine life.\n",
      "* **Lanikai Beach**: Relax at Lanikai Beach, known for its soft sand and clear waters.\n",
      "\n",
      "### Day 4: North Shore Adventure\n",
      "\n",
      "* **Drive to North Shore**: Head to the North Shore for a day of exploration.\n",
      "* **Sunset Beach and Banzai Pipeline**: Visit famous surfing spots and watch surfers tackle massive waves (in winter).\n",
      "* **Shrimp Trucks**: Enjoy lunch at one of the famous North Shore shrimp trucks.\n",
      "* **Waimea Valley**: Explore Waimea Valley and its botanical gardens, ending with a swim at Waimea Falls.\n",
      "\n",
      "### Day 5: Cultural and Scenic Highlights\n",
      "\n",
      "* **Polynesian Cultural Center**: Spend the day at the Polynesian Cultural Center learning about Polynesian cultures and enjoying a traditional luau dinner and show.\n",
      "\n",
      "### Day 6: Scenic Drive and Beaches\n",
      "\n",
      "* **Kualoa Ranch**: Take a tour of Kualoa Ranch, known for its stunning landscapes and movie locations.\n",
      "* **Byodo-In Temple**: Visit the beautiful Byodo-In Temple, a replica of a Japanese temple.\n",
      "* **Makapu'u Point Lighthouse Trail**: Hike the Makapu'u Point Lighthouse Trail for panoramic views of the coastline.\n",
      "\n",
      "### Day 7: Relaxation and Departure\n",
      "\n",
      "* **Beach Day**: Spend your last day relaxing at your favorite beach or exploring any sites you missed.\n",
      "* **Shopping**: Visit Ala Moana Center for some last-minute shopping.\n",
      "* **Departure**: Head to the airport for your flight home.\n",
      "\n",
      "### Tips:\n",
      "\n",
      "* **Car Rental**: Renting a car is highly recommended for flexibility and convenience.\n",
      "* **Sun Protection**: Bring sunscreen, hats, and sunglasses as the Hawaiian sun can be intense.\n",
      "* **Reservations**: Book popular activities and tours in advance, especially during peak travel seasons.\n",
      "\n",
      "Feel free to adjust this itinerary based on your interests and preferences!\n"
     ]
    }
   ],
   "source": [
    "print(send_message_to_jamba(\"Can you suggest an itenerary for a weeklong trip to hawaii?\"))"
   ]
  },
  {
   "cell_type": "code",
   "execution_count": 13,
   "metadata": {},
   "outputs": [],
   "source": [
    "import anthropic\n",
    "anthropic_client = anthropic.Anthropic(api_key=anthropic_api_key)\n",
    "def submit_prompt_anthtopic(prompt: str, model: str) -> str:\n",
    "    message = anthropic_client.messages.create(\n",
    "        model=model,\n",
    "        max_tokens=1000,\n",
    "        messages=[\n",
    "            {\n",
    "                \"role\": \"user\",\n",
    "                \"content\": [\n",
    "                    {\n",
    "                        \"type\": \"text\",\n",
    "                        \"text\": prompt\n",
    "                    }\n",
    "                ]\n",
    "            }\n",
    "        ]\n",
    "    )\n",
    "    return message.content[0].text"
   ]
  },
  {
   "cell_type": "code",
   "execution_count": 15,
   "metadata": {},
   "outputs": [
    {
     "name": "stdout",
     "output_type": "stream",
     "text": [
      "Here's a comprehensive guide to help you train for a marathon:\n",
      "\n",
      "1. Basic Guidelines:\n",
      "- Plan for 16-20 weeks of training\n",
      "- Start with a good base of running (able to run 3 miles comfortably)\n",
      "- Gradually increase mileage\n",
      "- Include rest days\n",
      "- Stay hydrated and maintain proper nutrition\n",
      "\n",
      "2. Weekly Training Structure:\n",
      "- 3-5 running days\n",
      "- 1-2 cross-training days\n",
      "- 1-2 rest days\n",
      "\n",
      "3. Types of Runs:\n",
      "- Long runs (gradually increasing distance)\n",
      "- Easy/recovery runs\n",
      "- Speed work/tempo runs\n",
      "- Cross-training (swimming, cycling, yoga)\n",
      "\n",
      "4. Sample Weekly Schedule:\n",
      "Monday: Rest or cross-training\n",
      "Tuesday: Speed work/tempo run\n",
      "Wednesday: Easy run\n",
      "Thursday: Rest or cross-training\n",
      "Friday: Easy run\n",
      "Saturday: Long run\n",
      "Sunday: Rest or easy run\n",
      "\n",
      "5. Important Tips:\n",
      "- Increase weekly mileage by no more than 10%\n",
      "- Get proper running shoes\n",
      "- Stay hydrated before, during, and after runs\n",
      "- Fuel properly with carbs and protein\n",
      "- Get adequate sleep\n",
      "- Listen to your body and rest when needed\n",
      "- Practice with energy gels/nutrition during training\n",
      "- Train with the gear you'll use on race day\n",
      "\n",
      "6. Additional Considerations:\n",
      "- Join a running group\n",
      "- Follow a specific training plan based on your level\n",
      "- Consider weather conditions\n",
      "- Track your progress\n",
      "- Schedule regular rest weeks\n",
      "\n",
      "Would you like me to provide more specific details about any of these aspects?\n"
     ]
    }
   ],
   "source": [
    "print(submit_prompt_anthtopic(\"Help me train for a marathon\", \"claude-3-5-sonnet-latest\"))"
   ]
  },
  {
   "cell_type": "code",
   "execution_count": 18,
   "metadata": {},
   "outputs": [],
   "source": [
    "from openai import OpenAI\n",
    "openai_client = OpenAI(api_key=openai_api_key_2)\n",
    "def submit_prompt_openai(prompt: str, model: str = \"gpt-4o-mini\") -> str:\n",
    "    \"\"\"\n",
    "    Submits a prompt to ChatGPT and returns the response message.\n",
    "    \n",
    "    Args:\n",
    "        prompt (str): The prompt to submit.\n",
    "        model (str): The model to use (default is \"gpt-4o\").\n",
    "\n",
    "    Returns:\n",
    "        str: The response message from ChatGPT.\n",
    "    \"\"\"\n",
    "    try:\n",
    "        completion = openai_client.chat.completions.create(\n",
    "            model=model,\n",
    "            messages=[\n",
    "                {\n",
    "                    \"role\": \"user\",\n",
    "                    \"content\": [{\"type\": \"text\", \"text\": prompt}]\n",
    "                }\n",
    "            ]\n",
    "        )\n",
    "        return completion.choices[0].message.content\n",
    "\n",
    "    except Exception as e:\n",
    "        print(f\"An error occurred: {e}\")\n",
    "        return \"\"\n"
   ]
  },
  {
   "cell_type": "code",
   "execution_count": 19,
   "metadata": {},
   "outputs": [
    {
     "name": "stdout",
     "output_type": "stream",
     "text": [
      "Making red chile pork tamales is a delicious and satisfying process. Here’s a step-by-step recipe for preparing them from scratch:\n",
      "\n",
      "### Ingredients\n",
      "\n",
      "**For the Pork Filling:**\n",
      "- 2 lbs pork shoulder (or pork butt), cut into chunks\n",
      "- 4 cups water (or enough to cover the pork)\n",
      "- 1 onion, quartered\n",
      "- 4 cloves garlic\n",
      "- 2 tsp salt\n",
      "- 1 tsp cumin\n",
      "- 1 tsp black pepper\n",
      "- 1 tbsp chili powder (optional)\n",
      "\n",
      "**For the Red Chile Sauce:**\n",
      "- 6-8 dried red chiles (such as New Mexico or guajillo)\n",
      "- 2 cups water (for soaking and blending)\n",
      "- 3 cloves garlic\n",
      "- 1 tsp cumin\n",
      "- Salt to taste\n",
      "\n",
      "**For the Tamale Dough (Masa):**\n",
      "- 4 cups masa harina (corn flour)\n",
      "- 1 cup unsalted butter or lard, softened\n",
      "- 1 tsp baking powder\n",
      "- 1 tsp salt\n",
      "- 2-3 cups reserved pork broth (from the filling)\n",
      "\n",
      "**Other:**\n",
      "- Corn husks (about 20-30, soaked in warm water for at least an hour)\n",
      "\n",
      "### Instructions\n",
      "\n",
      "#### Step 1: Prepare the Pork Filling\n",
      "1. In a large pot, combine the pork, water, quartered onion, garlic, salt, cumin, black pepper, and chili powder (if using). Bring to a boil.\n",
      "2. Reduce the heat and simmer until the pork is tender (about 2-3 hours). Add more water if necessary to keep the meat covered.\n",
      "3. Once cooked, remove the pork and let it cool. Reserve at least 2 cups of the broth.\n",
      "4. Shred the pork using two forks and mix it with some of the cooking broth to keep it moist.\n",
      "\n",
      "#### Step 2: Make the Red Chile Sauce\n",
      "1. Remove the stems and seeds from the dried chiles. Rinse them under cold water.\n",
      "2. Soak the chiles in hot water for about 20-30 minutes, until softened.\n",
      "3. In a blender, combine the soaked chiles, garlic, cumin, and 2 cups of the soaking water. Blend until smooth. Adjust seasoning with salt if needed.\n",
      "4. Mix the sauce into the shredded pork until evenly coated.\n",
      "\n",
      "#### Step 3: Prepare the Tamale Dough\n",
      "1. In a large bowl, beat the softened butter or lard until fluffy.\n",
      "2. In a separate bowl, combine the masa harina, baking powder, and salt. Gradually add this to the butter while mixing.\n",
      "3. Add the reserved pork broth a little at a time, mixing until the dough is soft and spreadable (you want it to be spreadable but not too runny).\n",
      "\n",
      "#### Step 4: Assemble the Tamales\n",
      "1. Drain and pat dry the soaked corn husks.\n",
      "2. Take one corn husk and lay it flat. Spread about 2 tablespoons of masa dough onto the center of the husk, leaving about 1 inch of space on the sides and bottom.\n",
      "3. Spoon about 1-2 tablespoons of the pork filling in the center of the masa.\n",
      "4. Fold the sides of the corn husk in toward the center, then fold up the bottom to close the tamale. (You can tie with a strip of corn husk if desired.)\n",
      "5. Repeat the process until all the masa and filling are used.\n",
      "\n",
      "#### Step 5: Steam the Tamales\n",
      "1. Place a steamer basket in a large pot and fill it with water just below the basket level.\n",
      "2. Stand the tamales upright in the basket, with the open end facing up.\n",
      "3. Cover the tamales with a damp cloth and a lid.\n",
      "4. Steam over medium-high heat for about 1 to 1.5 hours, or until the masa easily pulls away from the husk. Check the water level and add more as needed during steaming.\n",
      "\n",
      "#### Step 6: Serve\n",
      "- Allow the tamales to rest for a few minutes after steaming. Serve warm with your choice of sauce or toppings.\n",
      "\n",
      "Enjoy your homemade red chile pork tamales! They are perfect for gatherings and celebrations.\n"
     ]
    }
   ],
   "source": [
    "print(submit_prompt_openai(\"How do you make red chile pork tamales?\"))"
   ]
  },
  {
   "cell_type": "code",
   "execution_count": 16,
   "metadata": {},
   "outputs": [],
   "source": [
    "from mistralai import Mistral\n",
    "client = Mistral(api_key=mistral_ai_key)\n",
    "\n",
    "def submit_prompt_mistral(prompt: str, model: str = \"mistral-large-latest\") -> str:\n",
    "    chat_response = client.chat.complete(\n",
    "        model = model,\n",
    "        messages = [\n",
    "            {\n",
    "                \"role\": \"user\",\n",
    "                \"content\": prompt,\n",
    "            },\n",
    "        ]\n",
    "    )\n",
    "    return chat_response.choices[0].message.content\n"
   ]
  },
  {
   "cell_type": "code",
   "execution_count": 17,
   "metadata": {},
   "outputs": [
    {
     "name": "stdout",
     "output_type": "stream",
     "text": [
      "During the American Revolutionary War, colonials primarily used smoothbore, flintlock muskets. Here are a few types of muskets commonly used:\n",
      "\n",
      "1. **Brown Bess**: This was the most common musket used by the British Army and also widely used by American colonists. It was a .75 caliber smoothbore musket with a range of about 50-100 yards.\n",
      "\n",
      "2. **Charleville Musket**: This was the standard musket of the French Army and was also used by American colonists, especially after the French began supporting the American cause. It was a .69 caliber smoothbore musket.\n",
      "\n",
      "3. **Pennsylvania/Kentucky Rifle**: While not a musket, this rifle was also used during the Revolutionary War, particularly by frontiersmen and sharpshooters. It was slower to load than a musket but had a much longer range and was more accurate due to its rifled barrel.\n",
      "\n",
      "Muskets saw some technological advancements during and after the Revolutionary War, although the changes were not as dramatic as in some other periods. Here are a few developments:\n",
      "\n",
      "1. **Rifling**: While smoothbore muskets were most common, rifled barrels, which improved accuracy and range, became more prevalent. The aforementioned Pennsylvania/Kentucky rifle is an example of this.\n",
      "\n",
      "2. **Standardization**: There was a move towards standardizing musket parts, making it easier to repair and maintain weapons in the field.\n",
      "\n",
      "3. **Improvements in Manufacturing**: Techniques for manufacturing muskets became more efficient, allowing for greater production.\n",
      "\n",
      "4. **Transition to Percussion Caps**: After the war, there was a gradual shift from flintlock mechanisms to percussion caps, which were more reliable and easier to use, especially in wet conditions. However, this transition was not complete until well into the 19th century.\n",
      "\n",
      "5. **Bayonet Use**: While not a technological advancement, the use of bayonets became more common, turning muskets into effective close combat weapons.\n",
      "\n",
      "These advancements helped to shape the use of muskets and rifles in subsequent conflicts.\n"
     ]
    }
   ],
   "source": [
    "print(submit_prompt_mistral(\"What type of musket did colonials use in the revolutionary war? How did musket technology advance during the war?\"))"
   ]
  },
  {
   "cell_type": "code",
   "execution_count": null,
   "metadata": {},
   "outputs": [],
   "source": [
    "import asyncio\n",
    "from sydney import SydneyClient # copilot at home\n",
    "import nest_asyncio\n",
    "nest_asyncio.apply()\n",
    "\n",
    "async def get_response(prompt: str) -> str:\n",
    "    async with SydneyClient() as sydney:\n",
    "        response = \"\"\n",
    "        async for chunk in sydney.ask_stream(prompt):\n",
    "            response += chunk\n",
    "        return response\n",
    "\n",
    "# Function to be used in Jupyter Notebook\n",
    "async def ask_sydney(prompt: str):\n",
    "    \"\"\"goofy ah\"\"\"\n",
    "    try:\n",
    "        response = await get_response(prompt)\n",
    "        return response\n",
    "    except Exception as e:\n",
    "        print(f\"An error occurred: {e}\")\n",
    "\n"
   ]
  },
  {
   "cell_type": "code",
   "execution_count": 32,
   "metadata": {},
   "outputs": [
    {
     "name": "stdout",
     "output_type": "stream",
     "text": [
      "A picnic 🧺 is a great way to enjoy nature and have some fun with your friends or family. You should bring along some sandwiches, fruits 🍎, drinks 🥤, snacks 🍪, games 🎮, and a blanket 🛏. What kind of picnic are you planning?\n"
     ]
    }
   ],
   "source": [
    "message = await ask_sydney(\"What should I bring for my upcoming picnic?\")\n",
    "print(message)"
   ]
  },
  {
   "cell_type": "code",
   "execution_count": null,
   "metadata": {},
   "outputs": [],
   "source": [
    "def extract_code_from_llm_response(llm_response: str) -> str:\n",
    "    \"\"\"try to parse the java program from the input llm response\"\"\"\n",
    "    # look for key words denoting the start of a java program\n",
    "    key_words = [\"import\", \"package\", \"public class\"]\n",
    "    for key_word in key_words:\n",
    "        start_index = llm_response.find(key_word)\n",
    "        if (start_index != -1):\n",
    "            break\n",
    "    if (start_index == -1):\n",
    "        print(\"ERROR: unable to find start of java program\")\n",
    "        return \"\"\n",
    "    # look for the closing curly brace for the end of the java program\n",
    "    end_index = llm_response.rfind(\"}\") + 1\n",
    "    if (end_index == -1):\n",
    "        print(\"ERROR: unable to find end of java program\")\n",
    "        return \"\"\n",
    "    # return the found program\n",
    "    generated_code = llm_response[start_index:end_index]\n",
    "    return generated_code\n",
    "\n",
    "def get_class_name_from_generated_code(generated_code: str) -> str:\n",
    "    match = re.search(r'public class (\\w+)', generated_code)\n",
    "    if (match):\n",
    "        class_name = match.group(1)\n",
    "        return class_name\n",
    "    else:\n",
    "        print(\"ERROR: class name not found in generated code\")\n",
    "\n",
    "def add_package_and_import_to_generated_code(package_name: str, class_under_test: str, generated_code: str) -> str:\n",
    "    import_statement = f'import {class_under_test};'\n",
    "    return f\"package {package_name};\\n\" + f\"{import_statement}\\n\\n\" + generated_code\n",
    "\n",
    "def generate_code(prompt: str, llm: str, package_name: str, class_name: str, write_output: bool = False) -> None:\n",
    "    print(\"Generating code...\")\n",
    "\n",
    "    file_path = f\"../prompts/{package_name}/{prompt}.txt\"\n",
    "    with open(file_path, 'r') as file:\n",
    "        prompt_text = file.read()\n",
    "\n",
    "    if (llm==\"metaAI\"):\n",
    "        message = meta_ai.prompt(message=prompt_text)[\"message\"]\n",
    "    elif (llm==\"mistralLarge\"):\n",
    "        message = submit_prompt_mistral(prompt=prompt, model=\"mistral-large-latest\")\n",
    "    elif (llm==\"ai21Jamba\"):\n",
    "        message = send_message_to_jamba(prompt_text)\n",
    "    elif (llm==\"chatGPT4o\"):\n",
    "        message = submit_prompt_openai(prompt_text, model='gpt-4o')\n",
    "    elif (llm==\"chatGPTo1Preview\"):\n",
    "        print(\"Error, o1-preview not available via API :/\")\n",
    "        return\n",
    "    elif (llm==\"copilot\"):\n",
    "        message = asyncio.run(ask_sydney(prompt_text))\n",
    "    else: \n",
    "        print(\"Error, llm not supported, please pick a valid option\")\n",
    "        return\n",
    "\n",
    "    print(message)\n",
    "\n",
    "    generated_code = extract_code_from_llm_response(message)\n",
    "    package = f\"{package_name}.{llm}.{prompt}\"\n",
    "    class_under_test = f\"{package_name}.{class_name}\"\n",
    "    generated_code = add_package_and_import_to_generated_code(package, class_under_test, generated_code)\n",
    "\n",
    "    if (write_output):\n",
    "        output_filename = f\"../src/test/java/{package_name}/{llm}/{prompt}/{class_name}Test.java\"\n",
    "        with open(output_filename, 'w') as file:\n",
    "            file.write(generated_code)\n",
    "        print(\"Wrote generated code to \", output_filename)\n",
    "    else:\n",
    "        print(generated_code)"
   ]
  },
  {
   "cell_type": "code",
   "execution_count": 51,
   "metadata": {},
   "outputs": [
    {
     "name": "stdout",
     "output_type": "stream",
     "text": [
      "Generating code...\n",
      "Sure, I can write a test suite for you. Here is the test case: @Test public void test_grouping() { assertEquals(3, strs.length); // make sure there are three strings in the array String[] expected = {\"a\", \"b\", \"c\"}; // create a new array of arrays with three elements ArrayList<ArrayList<String>> result = new ArrayList<>(); // loop through each string and create a new array of arrays for (int i = 0; i < strs.length; i++) { // get the first element of the current string String current = strs[i]; // get the second element of the current string String second = strs[i + 1]; // add them to the current array of arrays ArrayList<String> temp = new ArrayList<>(); // add them to the temp array temp.add(current); temp.add(\n",
      "ERROR: unable to find start of java program\n",
      "package anagrams.copilot.prompt1;\n",
      "import anagrams.Anagrams;\n",
      "\n",
      "\n"
     ]
    }
   ],
   "source": [
    "generate_code(\"prompt1\", \"copilot\", \"anagrams\", \"Anagrams\", write_output=False)"
   ]
  },
  {
   "cell_type": "code",
   "execution_count": null,
   "metadata": {},
   "outputs": [],
   "source": []
  }
 ],
 "metadata": {
  "kernelspec": {
   "display_name": "venv",
   "language": "python",
   "name": "python3"
  },
  "language_info": {
   "codemirror_mode": {
    "name": "ipython",
    "version": 3
   },
   "file_extension": ".py",
   "mimetype": "text/x-python",
   "name": "python",
   "nbconvert_exporter": "python",
   "pygments_lexer": "ipython3",
   "version": "3.12.7"
  }
 },
 "nbformat": 4,
 "nbformat_minor": 2
}
