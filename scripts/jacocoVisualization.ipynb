{
 "cells": [
  {
   "cell_type": "code",
   "execution_count": null,
   "metadata": {
    "vscode": {
     "languageId": "plaintext"
    }
   },
   "outputs": [],
   "source": [
    "import json\n",
    "import pandas as pd\n",
    "import matplotlib.pyplot as plt\n",
    "from collections import defaultdict\n",
    "\n",
    "# Load JSON data from the file\n",
    "with open(\"QualitySoftware/metrics.json\", \"r\") as file:\n",
    "    data = json.load(file)"
   ]
  },
  {
   "cell_type": "code",
   "execution_count": null,
   "metadata": {
    "vscode": {
     "languageId": "plaintext"
    }
   },
   "outputs": [],
   "source": [
    "from google.colab import files\n",
    "uploaded = files.upload()\n"
   ]
  },
  {
   "cell_type": "code",
   "execution_count": null,
   "metadata": {
    "vscode": {
     "languageId": "plaintext"
    }
   },
   "outputs": [],
   "source": [
    "import json\n",
    "import pandas as pd\n",
    "import matplotlib.pyplot as plt\n",
    "from collections import defaultdict\n",
    "from google.colab import files\n",
    "\n",
    "# Upload JSON file\n",
    "# uploaded = files.upload()\n",
    "\n",
    "# Extract the uploaded file name\n",
    "file_name = list(uploaded.keys())[0]\n",
    "\n",
    "# Load JSON data from the uploaded file\n",
    "with open(file_name, \"r\") as file:\n",
    "    data = json.load(file)\n"
   ]
  },
  {
   "cell_type": "markdown",
   "metadata": {},
   "source": [
    "There is extra code for unused graphs"
   ]
  },
  {
   "cell_type": "code",
   "execution_count": null,
   "metadata": {
    "vscode": {
     "languageId": "plaintext"
    }
   },
   "outputs": [],
   "source": [
    "\n",
    "# Parse the JSON data to extract Jacoco metrics\n",
    "llm_metrics = defaultdict(lambda: defaultdict(list))\n",
    "\n",
    "for test_class, details in data.items():\n",
    "    llm = details[\"llm\"]\n",
    "    jacoco_metrics = details[\"jacoco_metrics\"][\"counters\"]\n",
    "    \n",
    "    for metric in jacoco_metrics:\n",
    "        name = metric[\"name\"]\n",
    "        coverage = metric[\"coverage\"]\n",
    "        llm_metrics[llm][name].append(coverage)\n",
    "\n",
    "# Calculate average coverage for each metric per LLM\n",
    "averaged_data = {\n",
    "    llm: {metric: sum(values) / len(values) for metric, values in metrics.items()}\n",
    "    for llm, metrics in llm_metrics.items()\n",
    "}\n",
    "\n",
    "# Convert to DataFrame for easier plotting\n",
    "df = pd.DataFrame(averaged_data).T\n",
    "\n",
    "# Plot the averaged data\n",
    "df.plot(kind=\"bar\", figsize=(12, 8))\n",
    "plt.title(\"Averaged Coverage Metrics by LLM\")\n",
    "plt.xlabel(\"LLM\")\n",
    "plt.ylabel(\"Average Coverage (%)\")\n",
    "plt.legend(title=\"Metrics\", bbox_to_anchor=(1.05, 1), loc=\"upper left\")\n",
    "plt.tight_layout()\n",
    "plt.show()\n"
   ]
  },
  {
   "cell_type": "markdown",
   "metadata": {},
   "source": [
    "Main coverage graph"
   ]
  },
  {
   "cell_type": "code",
   "execution_count": null,
   "metadata": {
    "vscode": {
     "languageId": "plaintext"
    }
   },
   "outputs": [],
   "source": [
    "import json\n",
    "import pandas as pd\n",
    "import matplotlib.pyplot as plt\n",
    "from collections import defaultdict\n",
    "\n",
    "# Parse the JSON data to extract only branch and line coverage\n",
    "llm_metrics = defaultdict(lambda: defaultdict(list))\n",
    "\n",
    "for test_class, details in data.items():\n",
    "    llm = details[\"llm\"]\n",
    "    jacoco_metrics = details[\"jacoco_metrics\"][\"counters\"]\n",
    "    \n",
    "    for metric in jacoco_metrics:\n",
    "        name = metric[\"name\"]\n",
    "        if name in {\"BRANCH\", \"LINE\"}:  # Filter for branch and line coverage\n",
    "            coverage = metric[\"coverage\"]\n",
    "            llm_metrics[llm][name].append(coverage)\n",
    "\n",
    "# Calculate average coverage for each metric per LLM\n",
    "averaged_data = {\n",
    "    llm: {metric: sum(values) / len(values) for metric, values in metrics.items()}\n",
    "    for llm, metrics in llm_metrics.items()\n",
    "}\n",
    "\n",
    "# Convert to DataFrame for easier plotting\n",
    "df = pd.DataFrame(averaged_data).T\n",
    "\n",
    "\n",
    "# Plot the data with error bars\n",
    "ax = df_means.plot(kind=\"bar\", yerr=df_stds.T, figsize=(12, 8), capsize=4)\n",
    "plt.title(\"Averaged Branch and Line Coverage by LLM\")\n",
    "plt.xlabel(\"LLM\")\n",
    "plt.ylabel(\"Average Coverage (%)\")\n",
    "plt.legend(title=\"Metrics\", bbox_to_anchor=(1.05, 1), loc=\"upper left\")\n",
    "\n",
    "# Rotate x-axis labels\n",
    "plt.xticks(rotation=45, ha=\"right\")  # Rotate labels 45 degrees and align them to the right\n",
    "\n",
    "plt.ylim(80, 100)\n",
    "\n",
    "# Add percentage labels on top of bars\n",
    "for p in ax.patches:\n",
    "    height = p.get_height()  # Get the height of the bar\n",
    "    ax.text(\n",
    "        x=p.get_x() + p.get_width() / 2,  # Center the text horizontally on the bar\n",
    "        y=height + 0.5,  # Slightly above the bar\n",
    "        s=f\"{height:.1f}%\",  # Format as a percentage\n",
    "        ha=\"center\"  # Align the text center\n",
    "    )\n",
    "\n",
    "plt.tight_layout()\n",
    "plt.show()\n",
    "\n",
    "# Plot the averaged data\n",
    "# df.plot(kind=\"bar\", figsize=(12, 8))\n",
    "# plt\n"
   ]
  },
  {
   "cell_type": "code",
   "execution_count": null,
   "metadata": {
    "vscode": {
     "languageId": "plaintext"
    }
   },
   "outputs": [],
   "source": [
    "import json\n",
    "import pandas as pd\n",
    "import matplotlib.pyplot as plt\n",
    "from collections import defaultdict\n",
    "\n",
    "# Parse the JSON data to extract only branch and line coverage\n",
    "llm_metrics = defaultdict(lambda: defaultdict(list))\n",
    "\n",
    "for test_class, details in data.items():\n",
    "    llm = details[\"llm\"]\n",
    "    jacoco_metrics = details[\"jacoco_metrics\"][\"counters\"]\n",
    "    \n",
    "    for metric in jacoco_metrics:\n",
    "        name = metric[\"name\"]\n",
    "        if name in {\"BRANCH\", \"LINE\"}:  # Filter for branch and line coverage\n",
    "            coverage = metric[\"coverage\"]\n",
    "            llm_metrics[llm][name].append(coverage)\n",
    "\n",
    "# Calculate average and standard deviation of coverage for each metric per LLM\n",
    "coverage_stats = {\n",
    "    llm: {\n",
    "        metric: {\n",
    "            \"mean\": sum(values) / len(values),\n",
    "            \"std\": (sum((x - (sum(values) / len(values))) ** 2 for x in values) / len(values)) ** 0.5\n",
    "        }\n",
    "        for metric, values in metrics.items()\n",
    "    }\n",
    "    for llm, metrics in llm_metrics.items()\n",
    "}\n",
    "\n",
    "# Prepare data for plotting\n",
    "averaged_data = {\n",
    "    llm: {metric: stats[\"mean\"] for metric, stats in metrics.items()}\n",
    "    for llm, metrics in coverage_stats.items()\n",
    "}\n",
    "std_data = {\n",
    "    llm: {metric: stats[\"std\"] for metric, stats in metrics.items()}\n",
    "    for llm, metrics in coverage_stats.items()\n",
    "}\n",
    "\n",
    "# Convert to DataFrames for easier plotting\n",
    "df_means = pd.DataFrame(averaged_data).T\n",
    "df_stds = pd.DataFrame(std_data).T\n",
    "\n",
    "# Plot the data with error bars\n",
    "ax = df_means.plot(kind=\"bar\", yerr=df_stds.T, figsize=(12, 8), capsize=4)\n",
    "plt.title(\"Averaged Branch and Line Coverage by LLM with Variance\")\n",
    "plt.xlabel(\"LLM\")\n",
    "plt.ylabel(\"Average Coverage (%)\")\n",
    "plt.legend(title=\"Metrics\", bbox_to_anchor=(1.05, 1), loc=\"upper left\")\n",
    "plt.tight_layout()\n",
    "plt.show()\n",
    "\n"
   ]
  },
  {
   "cell_type": "markdown",
   "metadata": {},
   "source": [
    "Graphs by class"
   ]
  },
  {
   "cell_type": "code",
   "execution_count": null,
   "metadata": {
    "vscode": {
     "languageId": "plaintext"
    }
   },
   "outputs": [],
   "source": [
    "# Parse the JSON data to extract coverage metrics and group by \"package\"\n",
    "coverage_by_package = defaultdict(lambda: defaultdict(list))\n",
    "\n",
    "for test_class, details in data.items():\n",
    "    package = details[\"package\"]  # Get the package name\n",
    "    jacoco_metrics = details[\"jacoco_metrics\"][\"counters\"]\n",
    "    \n",
    "    for metric in jacoco_metrics:\n",
    "        if metric[\"name\"] in [\"LINE\", \"BRANCH\"]:  # Only consider LINE and BRANCH metrics\n",
    "            metric_name = metric[\"name\"]\n",
    "            coverage = metric[\"coverage\"]\n",
    "            coverage_by_package[package][metric_name].append(coverage)\n",
    "\n",
    "# Calculate average coverage for each metric per package\n",
    "averaged_data = {\n",
    "    package: {metric: sum(values) / len(values) for metric, values in metrics.items()}\n",
    "    for package, metrics in coverage_by_package.items()\n",
    "}\n",
    "\n",
    "# Convert to DataFrame for easier plotting\n",
    "df = pd.DataFrame(averaged_data).T\n",
    "\n",
    "# Plot the data\n",
    "ax = df.plot(kind=\"bar\", figsize=(12, 8), capsize=4)\n",
    "plt.title(\"Average Coverage Metrics by Package\")\n",
    "plt.xlabel(\"Package\")\n",
    "plt.ylabel(\"Average Coverage (%)\")\n",
    "plt.legend(title=\"Metrics\", bbox_to_anchor=(1.05, 1), loc=\"upper left\")\n",
    "\n",
    "# Rotate x-axis labels for readability\n",
    "plt.xticks(rotation=45, ha=\"right\")\n",
    "\n",
    "# Add percentage labels on top of bars\n",
    "for p in ax.patches:\n",
    "    height = p.get_height()\n",
    "    ax.text(\n",
    "        x=p.get_x() + p.get_width() / 2,\n",
    "        y=height + 0.5,\n",
    "        s=f\"{height:.1f}%\",\n",
    "        ha=\"center\"\n",
    "    )\n",
    "\n",
    "plt.tight_layout()\n",
    "plt.show()"
   ]
  }
 ],
 "metadata": {
  "language_info": {
   "name": "python"
  }
 },
 "nbformat": 4,
 "nbformat_minor": 2
}
